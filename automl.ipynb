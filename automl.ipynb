{
  "nbformat": 4,
  "nbformat_minor": 0,
  "metadata": {
    "colab": {
      "provenance": []
    },
    "kernelspec": {
      "name": "python3",
      "display_name": "Python 3"
    },
    "language_info": {
      "name": "python"
    }
  },
  "cells": [
    {
      "cell_type": "code",
      "execution_count": null,
      "metadata": {
        "colab": {
          "base_uri": "https://localhost:8080/"
        },
        "id": "4V6R77ILpivS",
        "outputId": "47f6c0db-6d02-42f0-fbb6-65b5234e847a"
      },
      "outputs": [
        {
          "output_type": "stream",
          "name": "stdout",
          "text": [
            "Collecting h2o\n",
            "  Downloading h2o-3.42.0.2.tar.gz (249.1 MB)\n",
            "\u001b[2K     \u001b[90m━━━━━━━━━━━━━━━━━━━━━━━━━━━━━━━━━━━━━━━\u001b[0m \u001b[32m249.1/249.1 MB\u001b[0m \u001b[31m3.0 MB/s\u001b[0m eta \u001b[36m0:00:00\u001b[0m\n",
            "\u001b[?25h  Preparing metadata (setup.py) ... \u001b[?25l\u001b[?25hdone\n",
            "Requirement already satisfied: requests in /usr/local/lib/python3.10/dist-packages (from h2o) (2.31.0)\n",
            "Requirement already satisfied: tabulate in /usr/local/lib/python3.10/dist-packages (from h2o) (0.9.0)\n",
            "Requirement already satisfied: charset-normalizer<4,>=2 in /usr/local/lib/python3.10/dist-packages (from requests->h2o) (3.2.0)\n",
            "Requirement already satisfied: idna<4,>=2.5 in /usr/local/lib/python3.10/dist-packages (from requests->h2o) (3.4)\n",
            "Requirement already satisfied: urllib3<3,>=1.21.1 in /usr/local/lib/python3.10/dist-packages (from requests->h2o) (1.26.16)\n",
            "Requirement already satisfied: certifi>=2017.4.17 in /usr/local/lib/python3.10/dist-packages (from requests->h2o) (2023.7.22)\n",
            "Building wheels for collected packages: h2o\n",
            "  Building wheel for h2o (setup.py) ... \u001b[?25l\u001b[?25hdone\n",
            "  Created wheel for h2o: filename=h2o-3.42.0.2-py2.py3-none-any.whl size=249153908 sha256=0a5587c1d7f42948961266a6eacd0f421bf06747bf68590c1d31f89458aa2967\n",
            "  Stored in directory: /root/.cache/pip/wheels/31/f7/e0/e32942d9f76cb1cb14c949b7772eb78979d2e0132aae6c6780\n",
            "Successfully built h2o\n",
            "Installing collected packages: h2o\n",
            "Successfully installed h2o-3.42.0.2\n"
          ]
        }
      ],
      "source": [
        "!pip install h2o"
      ]
    },
    {
      "cell_type": "code",
      "source": [
        "import h2o\n"
      ],
      "metadata": {
        "id": "l4ajMtYIqDNH"
      },
      "execution_count": null,
      "outputs": []
    },
    {
      "cell_type": "code",
      "source": [
        "h2o.init()"
      ],
      "metadata": {
        "colab": {
          "base_uri": "https://localhost:8080/",
          "height": 546
        },
        "id": "uRgVIkgnqKPs",
        "outputId": "154813c1-313c-495f-e4e1-c1ed1bfdd0ff"
      },
      "execution_count": null,
      "outputs": [
        {
          "output_type": "stream",
          "name": "stdout",
          "text": [
            "Checking whether there is an H2O instance running at http://localhost:54321..... not found.\n",
            "Attempting to start a local H2O server...\n",
            "  Java Version: openjdk version \"11.0.20\" 2023-07-18; OpenJDK Runtime Environment (build 11.0.20+8-post-Ubuntu-1ubuntu122.04); OpenJDK 64-Bit Server VM (build 11.0.20+8-post-Ubuntu-1ubuntu122.04, mixed mode, sharing)\n",
            "  Starting server from /usr/local/lib/python3.10/dist-packages/h2o/backend/bin/h2o.jar\n",
            "  Ice root: /tmp/tmpr4zh4w3r\n",
            "  JVM stdout: /tmp/tmpr4zh4w3r/h2o_unknownUser_started_from_python.out\n",
            "  JVM stderr: /tmp/tmpr4zh4w3r/h2o_unknownUser_started_from_python.err\n",
            "  Server is running at http://127.0.0.1:54321\n",
            "Connecting to H2O server at http://127.0.0.1:54321 ... successful.\n"
          ]
        },
        {
          "output_type": "display_data",
          "data": {
            "text/plain": [
              "--------------------------  -----------------------------------------------------------------------------------------\n",
              "H2O_cluster_uptime:         04 secs\n",
              "H2O_cluster_timezone:       Etc/UTC\n",
              "H2O_data_parsing_timezone:  UTC\n",
              "H2O_cluster_version:        3.42.0.2\n",
              "H2O_cluster_version_age:    14 days, 21 hours and 43 minutes\n",
              "H2O_cluster_name:           H2O_from_python_unknownUser_a1c2wv\n",
              "H2O_cluster_total_nodes:    1\n",
              "H2O_cluster_free_memory:    3.170 Gb\n",
              "H2O_cluster_total_cores:    2\n",
              "H2O_cluster_allowed_cores:  2\n",
              "H2O_cluster_status:         locked, healthy\n",
              "H2O_connection_url:         http://127.0.0.1:54321\n",
              "H2O_connection_proxy:       {\"http\": null, \"https\": null, \"colab_language_server\": \"/usr/colab/bin/language_service\"}\n",
              "H2O_internal_security:      False\n",
              "Python_version:             3.10.12 final\n",
              "--------------------------  -----------------------------------------------------------------------------------------"
            ],
            "text/html": [
              "\n",
              "<style>\n",
              "\n",
              "#h2o-table-1.h2o-container {\n",
              "  overflow-x: auto;\n",
              "}\n",
              "#h2o-table-1 .h2o-table {\n",
              "  /* width: 100%; */\n",
              "  margin-top: 1em;\n",
              "  margin-bottom: 1em;\n",
              "}\n",
              "#h2o-table-1 .h2o-table caption {\n",
              "  white-space: nowrap;\n",
              "  caption-side: top;\n",
              "  text-align: left;\n",
              "  /* margin-left: 1em; */\n",
              "  margin: 0;\n",
              "  font-size: larger;\n",
              "}\n",
              "#h2o-table-1 .h2o-table thead {\n",
              "  white-space: nowrap; \n",
              "  position: sticky;\n",
              "  top: 0;\n",
              "  box-shadow: 0 -1px inset;\n",
              "}\n",
              "#h2o-table-1 .h2o-table tbody {\n",
              "  overflow: auto;\n",
              "}\n",
              "#h2o-table-1 .h2o-table th,\n",
              "#h2o-table-1 .h2o-table td {\n",
              "  text-align: right;\n",
              "  /* border: 1px solid; */\n",
              "}\n",
              "#h2o-table-1 .h2o-table tr:nth-child(even) {\n",
              "  /* background: #F5F5F5 */\n",
              "}\n",
              "\n",
              "</style>      \n",
              "<div id=\"h2o-table-1\" class=\"h2o-container\">\n",
              "  <table class=\"h2o-table\">\n",
              "    <caption></caption>\n",
              "    <thead></thead>\n",
              "    <tbody><tr><td>H2O_cluster_uptime:</td>\n",
              "<td>04 secs</td></tr>\n",
              "<tr><td>H2O_cluster_timezone:</td>\n",
              "<td>Etc/UTC</td></tr>\n",
              "<tr><td>H2O_data_parsing_timezone:</td>\n",
              "<td>UTC</td></tr>\n",
              "<tr><td>H2O_cluster_version:</td>\n",
              "<td>3.42.0.2</td></tr>\n",
              "<tr><td>H2O_cluster_version_age:</td>\n",
              "<td>14 days, 21 hours and 43 minutes</td></tr>\n",
              "<tr><td>H2O_cluster_name:</td>\n",
              "<td>H2O_from_python_unknownUser_a1c2wv</td></tr>\n",
              "<tr><td>H2O_cluster_total_nodes:</td>\n",
              "<td>1</td></tr>\n",
              "<tr><td>H2O_cluster_free_memory:</td>\n",
              "<td>3.170 Gb</td></tr>\n",
              "<tr><td>H2O_cluster_total_cores:</td>\n",
              "<td>2</td></tr>\n",
              "<tr><td>H2O_cluster_allowed_cores:</td>\n",
              "<td>2</td></tr>\n",
              "<tr><td>H2O_cluster_status:</td>\n",
              "<td>locked, healthy</td></tr>\n",
              "<tr><td>H2O_connection_url:</td>\n",
              "<td>http://127.0.0.1:54321</td></tr>\n",
              "<tr><td>H2O_connection_proxy:</td>\n",
              "<td>{\"http\": null, \"https\": null, \"colab_language_server\": \"/usr/colab/bin/language_service\"}</td></tr>\n",
              "<tr><td>H2O_internal_security:</td>\n",
              "<td>False</td></tr>\n",
              "<tr><td>Python_version:</td>\n",
              "<td>3.10.12 final</td></tr></tbody>\n",
              "  </table>\n",
              "</div>\n"
            ]
          },
          "metadata": {}
        }
      ]
    },
    {
      "cell_type": "code",
      "source": [
        "from h2o.automl import H2OAutoML"
      ],
      "metadata": {
        "id": "r7h9DpwMqVd2"
      },
      "execution_count": null,
      "outputs": []
    },
    {
      "cell_type": "code",
      "source": [
        "from google.colab import files\n",
        "upload = files.upload()"
      ],
      "metadata": {
        "colab": {
          "base_uri": "https://localhost:8080/",
          "height": 75
        },
        "id": "hAbVnuQFqyej",
        "outputId": "0e190054-0a6c-4ef6-eccc-a3b369f4db9f"
      },
      "execution_count": null,
      "outputs": [
        {
          "output_type": "display_data",
          "data": {
            "text/plain": [
              "<IPython.core.display.HTML object>"
            ],
            "text/html": [
              "\n",
              "     <input type=\"file\" id=\"files-c13489d1-4e1a-412d-b246-7f23853adbe0\" name=\"files[]\" multiple disabled\n",
              "        style=\"border:none\" />\n",
              "     <output id=\"result-c13489d1-4e1a-412d-b246-7f23853adbe0\">\n",
              "      Upload widget is only available when the cell has been executed in the\n",
              "      current browser session. Please rerun this cell to enable.\n",
              "      </output>\n",
              "      <script>// Copyright 2017 Google LLC\n",
              "//\n",
              "// Licensed under the Apache License, Version 2.0 (the \"License\");\n",
              "// you may not use this file except in compliance with the License.\n",
              "// You may obtain a copy of the License at\n",
              "//\n",
              "//      http://www.apache.org/licenses/LICENSE-2.0\n",
              "//\n",
              "// Unless required by applicable law or agreed to in writing, software\n",
              "// distributed under the License is distributed on an \"AS IS\" BASIS,\n",
              "// WITHOUT WARRANTIES OR CONDITIONS OF ANY KIND, either express or implied.\n",
              "// See the License for the specific language governing permissions and\n",
              "// limitations under the License.\n",
              "\n",
              "/**\n",
              " * @fileoverview Helpers for google.colab Python module.\n",
              " */\n",
              "(function(scope) {\n",
              "function span(text, styleAttributes = {}) {\n",
              "  const element = document.createElement('span');\n",
              "  element.textContent = text;\n",
              "  for (const key of Object.keys(styleAttributes)) {\n",
              "    element.style[key] = styleAttributes[key];\n",
              "  }\n",
              "  return element;\n",
              "}\n",
              "\n",
              "// Max number of bytes which will be uploaded at a time.\n",
              "const MAX_PAYLOAD_SIZE = 100 * 1024;\n",
              "\n",
              "function _uploadFiles(inputId, outputId) {\n",
              "  const steps = uploadFilesStep(inputId, outputId);\n",
              "  const outputElement = document.getElementById(outputId);\n",
              "  // Cache steps on the outputElement to make it available for the next call\n",
              "  // to uploadFilesContinue from Python.\n",
              "  outputElement.steps = steps;\n",
              "\n",
              "  return _uploadFilesContinue(outputId);\n",
              "}\n",
              "\n",
              "// This is roughly an async generator (not supported in the browser yet),\n",
              "// where there are multiple asynchronous steps and the Python side is going\n",
              "// to poll for completion of each step.\n",
              "// This uses a Promise to block the python side on completion of each step,\n",
              "// then passes the result of the previous step as the input to the next step.\n",
              "function _uploadFilesContinue(outputId) {\n",
              "  const outputElement = document.getElementById(outputId);\n",
              "  const steps = outputElement.steps;\n",
              "\n",
              "  const next = steps.next(outputElement.lastPromiseValue);\n",
              "  return Promise.resolve(next.value.promise).then((value) => {\n",
              "    // Cache the last promise value to make it available to the next\n",
              "    // step of the generator.\n",
              "    outputElement.lastPromiseValue = value;\n",
              "    return next.value.response;\n",
              "  });\n",
              "}\n",
              "\n",
              "/**\n",
              " * Generator function which is called between each async step of the upload\n",
              " * process.\n",
              " * @param {string} inputId Element ID of the input file picker element.\n",
              " * @param {string} outputId Element ID of the output display.\n",
              " * @return {!Iterable<!Object>} Iterable of next steps.\n",
              " */\n",
              "function* uploadFilesStep(inputId, outputId) {\n",
              "  const inputElement = document.getElementById(inputId);\n",
              "  inputElement.disabled = false;\n",
              "\n",
              "  const outputElement = document.getElementById(outputId);\n",
              "  outputElement.innerHTML = '';\n",
              "\n",
              "  const pickedPromise = new Promise((resolve) => {\n",
              "    inputElement.addEventListener('change', (e) => {\n",
              "      resolve(e.target.files);\n",
              "    });\n",
              "  });\n",
              "\n",
              "  const cancel = document.createElement('button');\n",
              "  inputElement.parentElement.appendChild(cancel);\n",
              "  cancel.textContent = 'Cancel upload';\n",
              "  const cancelPromise = new Promise((resolve) => {\n",
              "    cancel.onclick = () => {\n",
              "      resolve(null);\n",
              "    };\n",
              "  });\n",
              "\n",
              "  // Wait for the user to pick the files.\n",
              "  const files = yield {\n",
              "    promise: Promise.race([pickedPromise, cancelPromise]),\n",
              "    response: {\n",
              "      action: 'starting',\n",
              "    }\n",
              "  };\n",
              "\n",
              "  cancel.remove();\n",
              "\n",
              "  // Disable the input element since further picks are not allowed.\n",
              "  inputElement.disabled = true;\n",
              "\n",
              "  if (!files) {\n",
              "    return {\n",
              "      response: {\n",
              "        action: 'complete',\n",
              "      }\n",
              "    };\n",
              "  }\n",
              "\n",
              "  for (const file of files) {\n",
              "    const li = document.createElement('li');\n",
              "    li.append(span(file.name, {fontWeight: 'bold'}));\n",
              "    li.append(span(\n",
              "        `(${file.type || 'n/a'}) - ${file.size} bytes, ` +\n",
              "        `last modified: ${\n",
              "            file.lastModifiedDate ? file.lastModifiedDate.toLocaleDateString() :\n",
              "                                    'n/a'} - `));\n",
              "    const percent = span('0% done');\n",
              "    li.appendChild(percent);\n",
              "\n",
              "    outputElement.appendChild(li);\n",
              "\n",
              "    const fileDataPromise = new Promise((resolve) => {\n",
              "      const reader = new FileReader();\n",
              "      reader.onload = (e) => {\n",
              "        resolve(e.target.result);\n",
              "      };\n",
              "      reader.readAsArrayBuffer(file);\n",
              "    });\n",
              "    // Wait for the data to be ready.\n",
              "    let fileData = yield {\n",
              "      promise: fileDataPromise,\n",
              "      response: {\n",
              "        action: 'continue',\n",
              "      }\n",
              "    };\n",
              "\n",
              "    // Use a chunked sending to avoid message size limits. See b/62115660.\n",
              "    let position = 0;\n",
              "    do {\n",
              "      const length = Math.min(fileData.byteLength - position, MAX_PAYLOAD_SIZE);\n",
              "      const chunk = new Uint8Array(fileData, position, length);\n",
              "      position += length;\n",
              "\n",
              "      const base64 = btoa(String.fromCharCode.apply(null, chunk));\n",
              "      yield {\n",
              "        response: {\n",
              "          action: 'append',\n",
              "          file: file.name,\n",
              "          data: base64,\n",
              "        },\n",
              "      };\n",
              "\n",
              "      let percentDone = fileData.byteLength === 0 ?\n",
              "          100 :\n",
              "          Math.round((position / fileData.byteLength) * 100);\n",
              "      percent.textContent = `${percentDone}% done`;\n",
              "\n",
              "    } while (position < fileData.byteLength);\n",
              "  }\n",
              "\n",
              "  // All done.\n",
              "  yield {\n",
              "    response: {\n",
              "      action: 'complete',\n",
              "    }\n",
              "  };\n",
              "}\n",
              "\n",
              "scope.google = scope.google || {};\n",
              "scope.google.colab = scope.google.colab || {};\n",
              "scope.google.colab._files = {\n",
              "  _uploadFiles,\n",
              "  _uploadFilesContinue,\n",
              "};\n",
              "})(self);\n",
              "</script> "
            ]
          },
          "metadata": {}
        },
        {
          "output_type": "stream",
          "name": "stdout",
          "text": [
            "Saving iris(2).csv to iris(2).csv\n"
          ]
        }
      ]
    },
    {
      "cell_type": "code",
      "source": [
        "data = h2o.import_file(\"iris(2).csv\")"
      ],
      "metadata": {
        "colab": {
          "base_uri": "https://localhost:8080/"
        },
        "id": "hb2Yf4P7rPE_",
        "outputId": "4b9ca29f-a4e5-4802-c18f-7151673116bf"
      },
      "execution_count": null,
      "outputs": [
        {
          "output_type": "stream",
          "name": "stdout",
          "text": [
            "Parse progress: |████████████████████████████████████████████████████████████████| (done) 100%\n"
          ]
        }
      ]
    },
    {
      "cell_type": "code",
      "source": [
        "data.head()"
      ],
      "metadata": {
        "colab": {
          "base_uri": "https://localhost:8080/",
          "height": 389
        },
        "id": "nIena490sMLT",
        "outputId": "9fda853c-360b-49b6-b3e0-1192425ca654"
      },
      "execution_count": null,
      "outputs": [
        {
          "output_type": "execute_result",
          "data": {
            "text/plain": [
              "  ﻿sepal_length    sepal_width    petal_length    petal_width  species\n",
              "---------------  -------------  --------------  -------------  ---------\n",
              "            5.1            3.5             1.4            0.2  setosa\n",
              "            4.9            3               1.4            0.2  setosa\n",
              "            4.7            3.2             1.3            0.2  setosa\n",
              "            4.6            3.1             1.5            0.2  setosa\n",
              "            5              3.6             1.4            0.2  setosa\n",
              "            5.4            3.9             1.7            0.4  setosa\n",
              "            4.6            3.4             1.4            0.3  setosa\n",
              "            5              3.4             1.5            0.2  setosa\n",
              "            4.4            2.9             1.4            0.2  setosa\n",
              "            4.9            3.1             1.5            0.1  setosa\n",
              "[10 rows x 5 columns]\n"
            ],
            "text/html": [
              "<table class='dataframe'>\n",
              "<thead>\n",
              "<tr><th style=\"text-align: right;\">  ﻿sepal_length</th><th style=\"text-align: right;\">  sepal_width</th><th style=\"text-align: right;\">  petal_length</th><th style=\"text-align: right;\">  petal_width</th><th>species  </th></tr>\n",
              "</thead>\n",
              "<tbody>\n",
              "<tr><td style=\"text-align: right;\">            5.1</td><td style=\"text-align: right;\">          3.5</td><td style=\"text-align: right;\">           1.4</td><td style=\"text-align: right;\">          0.2</td><td>setosa   </td></tr>\n",
              "<tr><td style=\"text-align: right;\">            4.9</td><td style=\"text-align: right;\">          3  </td><td style=\"text-align: right;\">           1.4</td><td style=\"text-align: right;\">          0.2</td><td>setosa   </td></tr>\n",
              "<tr><td style=\"text-align: right;\">            4.7</td><td style=\"text-align: right;\">          3.2</td><td style=\"text-align: right;\">           1.3</td><td style=\"text-align: right;\">          0.2</td><td>setosa   </td></tr>\n",
              "<tr><td style=\"text-align: right;\">            4.6</td><td style=\"text-align: right;\">          3.1</td><td style=\"text-align: right;\">           1.5</td><td style=\"text-align: right;\">          0.2</td><td>setosa   </td></tr>\n",
              "<tr><td style=\"text-align: right;\">            5  </td><td style=\"text-align: right;\">          3.6</td><td style=\"text-align: right;\">           1.4</td><td style=\"text-align: right;\">          0.2</td><td>setosa   </td></tr>\n",
              "<tr><td style=\"text-align: right;\">            5.4</td><td style=\"text-align: right;\">          3.9</td><td style=\"text-align: right;\">           1.7</td><td style=\"text-align: right;\">          0.4</td><td>setosa   </td></tr>\n",
              "<tr><td style=\"text-align: right;\">            4.6</td><td style=\"text-align: right;\">          3.4</td><td style=\"text-align: right;\">           1.4</td><td style=\"text-align: right;\">          0.3</td><td>setosa   </td></tr>\n",
              "<tr><td style=\"text-align: right;\">            5  </td><td style=\"text-align: right;\">          3.4</td><td style=\"text-align: right;\">           1.5</td><td style=\"text-align: right;\">          0.2</td><td>setosa   </td></tr>\n",
              "<tr><td style=\"text-align: right;\">            4.4</td><td style=\"text-align: right;\">          2.9</td><td style=\"text-align: right;\">           1.4</td><td style=\"text-align: right;\">          0.2</td><td>setosa   </td></tr>\n",
              "<tr><td style=\"text-align: right;\">            4.9</td><td style=\"text-align: right;\">          3.1</td><td style=\"text-align: right;\">           1.5</td><td style=\"text-align: right;\">          0.1</td><td>setosa   </td></tr>\n",
              "</tbody>\n",
              "</table><pre style='font-size: smaller; margin-bottom: 1em;'>[10 rows x 5 columns]</pre>"
            ]
          },
          "metadata": {},
          "execution_count": 8
        }
      ]
    },
    {
      "cell_type": "code",
      "source": [
        "\n",
        "target_col = \"species\"\n",
        "\n",
        "# Split data into train and test sets\n",
        "train_data, test_data = data.split_frame(ratios=[0.6], seed=42)\n",
        "\n",
        "# Initialize AutoML\n",
        "aml = H2OAutoML(max_models=10, seed=42, max_runtime_secs=600)\n",
        "\n",
        "# Train AutoML\n",
        "aml.train(y=target_col, training_frame=train_data)\n",
        "\n",
        "# View AutoML Leaderboard\n",
        "leaderboard = aml.leaderboard\n",
        "print(leaderboard)\n",
        "\n",
        "# Get the best model\n",
        "best_model = aml.leader\n",
        "\n",
        "# Make predictions on the test data\n",
        "predictions = best_model.predict(test_data)\n",
        "print(predictions)\n",
        "\n",
        "\n"
      ],
      "metadata": {
        "colab": {
          "base_uri": "https://localhost:8080/"
        },
        "id": "JD67YmB7uATT",
        "outputId": "c8a68c84-4aaf-49df-8f15-cbd6d5310158"
      },
      "execution_count": 16,
      "outputs": [
        {
          "output_type": "stream",
          "name": "stdout",
          "text": [
            "AutoML progress: |████\n",
            "10:30:02.573: _min_rows param, The dataset size is too small to split for min_rows=100.0: must have at least 200.0 (weighted) rows, but have only 93.0.\n",
            "\n",
            "███████████████████████████████████████████████████████████| (done) 100%\n",
            "model_id                                                   mean_per_class_error    logloss      rmse        mse\n",
            "GLM_1_AutoML_3_20230809_102955                                        0.0215278  0.0604846  0.138336  0.0191368\n",
            "StackedEnsemble_BestOfFamily_1_AutoML_3_20230809_102955               0.0333333  0.0852351  0.158659  0.0251728\n",
            "XRT_1_AutoML_3_20230809_102955                                        0.0534722  0.126011   0.199723  0.0398892\n",
            "DRF_1_AutoML_3_20230809_102955                                        0.0534722  0.127347   0.199153  0.0396621\n",
            "GBM_5_AutoML_3_20230809_102955                                        0.0541667  0.19783    0.219608  0.0482278\n",
            "StackedEnsemble_AllModels_1_AutoML_3_20230809_102955                  0.0541667  0.0954753  0.17237   0.0297114\n",
            "XGBoost_2_AutoML_3_20230809_102955                                    0.0541667  0.290698   0.269381  0.0725662\n",
            "XGBoost_3_AutoML_3_20230809_102955                                    0.0645833  0.201387   0.226101  0.0511216\n",
            "GBM_3_AutoML_3_20230809_102955                                        0.0652778  0.194659   0.23259   0.0540979\n",
            "GBM_2_AutoML_3_20230809_102955                                        0.0652778  0.194859   0.230467  0.0531148\n",
            "[12 rows x 5 columns]\n",
            "\n",
            "glm prediction progress: |███████████████████████████████████████████████████████| (done) 100%\n",
            "predict      setosa    versicolor    virginica\n",
            "setosa     0.998672   0.00132823   2.21503e-34\n",
            "setosa     0.999823   0.000177228  2.98096e-39\n",
            "setosa     0.999112   0.00088848   3.73152e-36\n",
            "setosa     0.999984   1.61711e-05  2.2278e-38\n",
            "setosa     0.999957   4.33116e-05  3.65968e-42\n",
            "setosa     0.999996   4.00844e-06  7.56945e-42\n",
            "setosa     0.999095   0.000904895  3.29585e-37\n",
            "setosa     0.999985   1.51263e-05  2.69154e-39\n",
            "setosa     0.999999   5.53807e-07  5.65933e-42\n",
            "setosa     0.99889    0.00111027   6.29216e-31\n",
            "[57 rows x 4 columns]\n",
            "\n"
          ]
        }
      ]
    },
    {
      "cell_type": "code",
      "source": [
        "\n",
        "\n",
        "\n",
        "# Print the best model's information and parameters\n",
        "print(\"Best Model Type:\", best_model.algo)\n",
        "print(\"Best Model Parameters:\", best_model.params)\n",
        "\n",
        "perf = best_model.model_performance(test_data=test_data)\n",
        "print(\"Best Model Performance:\")\n",
        "print(perf)\n"
      ],
      "metadata": {
        "id": "5HmsU9VOiJPv",
        "colab": {
          "base_uri": "https://localhost:8080/"
        },
        "outputId": "483f1f7b-c206-4676-cba7-567938280f13"
      },
      "execution_count": 15,
      "outputs": [
        {
          "output_type": "stream",
          "name": "stdout",
          "text": [
            "Best Model Type: glm\n",
            "Best Model Parameters: {'model_id': {'default': None, 'actual': {'__meta': {'schema_version': 3, 'schema_name': 'ModelKeyV3', 'schema_type': 'Key<Model>'}, 'name': 'GLM_1_AutoML_2_20230809_102813', 'type': 'Key<Model>', 'URL': '/3/Models/GLM_1_AutoML_2_20230809_102813'}, 'input': None}, 'training_frame': {'default': None, 'actual': {'__meta': {'schema_version': 3, 'schema_name': 'FrameKeyV3', 'schema_type': 'Key<Frame>'}, 'name': 'AutoML_2_20230809_102813_training_py_9_sid_8c62', 'type': 'Key<Frame>', 'URL': '/3/Frames/AutoML_2_20230809_102813_training_py_9_sid_8c62'}, 'input': {'__meta': {'schema_version': 3, 'schema_name': 'FrameKeyV3', 'schema_type': 'Key<Frame>'}, 'name': 'AutoML_2_20230809_102813_training_py_9_sid_8c62', 'type': 'Key<Frame>', 'URL': '/3/Frames/AutoML_2_20230809_102813_training_py_9_sid_8c62'}}, 'validation_frame': {'default': None, 'actual': None, 'input': None}, 'nfolds': {'default': 0, 'actual': 5, 'input': 5}, 'checkpoint': {'default': None, 'actual': None, 'input': None}, 'export_checkpoints_dir': {'default': None, 'actual': None, 'input': None}, 'seed': {'default': -1, 'actual': 43, 'input': 43}, 'keep_cross_validation_models': {'default': True, 'actual': False, 'input': False}, 'keep_cross_validation_predictions': {'default': False, 'actual': True, 'input': True}, 'keep_cross_validation_fold_assignment': {'default': False, 'actual': False, 'input': False}, 'fold_assignment': {'default': 'AUTO', 'actual': 'Modulo', 'input': 'Modulo'}, 'fold_column': {'default': None, 'actual': None, 'input': None}, 'response_column': {'default': None, 'actual': {'__meta': {'schema_version': 3, 'schema_name': 'ColSpecifierV3', 'schema_type': 'VecSpecifier'}, 'column_name': 'species', 'is_member_of_frames': None}, 'input': {'__meta': {'schema_version': 3, 'schema_name': 'ColSpecifierV3', 'schema_type': 'VecSpecifier'}, 'column_name': 'species', 'is_member_of_frames': None}}, 'ignored_columns': {'default': None, 'actual': None, 'input': None}, 'random_columns': {'default': None, 'actual': None, 'input': None}, 'ignore_const_cols': {'default': True, 'actual': True, 'input': True}, 'score_each_iteration': {'default': False, 'actual': False, 'input': False}, 'score_iteration_interval': {'default': -1, 'actual': -1, 'input': -1}, 'offset_column': {'default': None, 'actual': None, 'input': None}, 'weights_column': {'default': None, 'actual': None, 'input': None}, 'family': {'default': 'AUTO', 'actual': 'multinomial', 'input': 'multinomial'}, 'rand_family': {'default': None, 'actual': None, 'input': None}, 'tweedie_variance_power': {'default': 0.0, 'actual': 0.0, 'input': 0.0}, 'tweedie_link_power': {'default': 1.0, 'actual': 1.0, 'input': 1.0}, 'theta': {'default': 1e-10, 'actual': 1e-10, 'input': 1e-10}, 'solver': {'default': 'AUTO', 'actual': 'COORDINATE_DESCENT', 'input': 'AUTO'}, 'alpha': {'default': None, 'actual': [0.0], 'input': [0.0, 0.2, 0.4, 0.6, 0.8, 1.0]}, 'lambda': {'default': None, 'actual': [43.21791438759785, 26.839057027917335, 16.667509118730447, 10.350805541863698, 6.428025603722421, 3.9919128028243565, 2.479045481107754, 1.5395292434876322, 0.9560737427433186, 0.5937379919412752, 0.36872135204020734, 0.22898220645413145, 0.1422018295997269, 0.08830974534940735, 0.0548418479961115, 0.034057716730227026, 0.02115041909161466, 0.013134768583999435, 0.008156913818488685, 0.005065581674830863, 0.0031458120406053966, 0.001953602573222416, 0.0012132202956940702, 0.0007534303578727075, 0.0004678930167743736, 0.0002905694904096386, 0.00018044857634118318, 0.00011206162304808757, 6.959216644872828e-05, 4.321791438759777e-05, 0.0], 'input': None}, 'lambda_search': {'default': False, 'actual': True, 'input': True}, 'early_stopping': {'default': True, 'actual': True, 'input': True}, 'nlambdas': {'default': -1, 'actual': 30, 'input': -1}, 'standardize': {'default': True, 'actual': True, 'input': True}, 'missing_values_handling': {'default': 'MeanImputation', 'actual': 'MeanImputation', 'input': 'MeanImputation'}, 'plug_values': {'default': None, 'actual': None, 'input': None}, 'compute_p_values': {'default': False, 'actual': False, 'input': False}, 'dispersion_parameter_method': {'default': 'pearson', 'actual': 'pearson', 'input': 'pearson'}, 'init_dispersion_parameter': {'default': 1.0, 'actual': 1.0, 'input': 1.0}, 'remove_collinear_columns': {'default': False, 'actual': False, 'input': False}, 'intercept': {'default': True, 'actual': True, 'input': True}, 'non_negative': {'default': False, 'actual': False, 'input': False}, 'max_iterations': {'default': -1, 'actual': 153, 'input': -1}, 'objective_epsilon': {'default': -1.0, 'actual': 0.0001, 'input': -1.0}, 'beta_epsilon': {'default': 0.0001, 'actual': 0.0001, 'input': 0.0001}, 'gradient_epsilon': {'default': -1.0, 'actual': 1.0000000000000002e-06, 'input': -1.0}, 'link': {'default': 'family_default', 'actual': 'multinomial', 'input': 'family_default'}, 'rand_link': {'default': None, 'actual': None, 'input': None}, 'startval': {'default': None, 'actual': None, 'input': None}, 'calc_like': {'default': False, 'actual': False, 'input': False}, 'HGLM': {'default': False, 'actual': False, 'input': False}, 'prior': {'default': -1.0, 'actual': -1.0, 'input': -1.0}, 'cold_start': {'default': False, 'actual': False, 'input': False}, 'lambda_min_ratio': {'default': -1.0, 'actual': 1.0000000000000002e-06, 'input': -1.0}, 'beta_constraints': {'default': None, 'actual': None, 'input': None}, 'max_active_predictors': {'default': -1, 'actual': 5000, 'input': -1}, 'interactions': {'default': None, 'actual': None, 'input': None}, 'interaction_pairs': {'default': None, 'actual': None, 'input': None}, 'obj_reg': {'default': -1.0, 'actual': 0.009345794392523364, 'input': -1.0}, 'stopping_rounds': {'default': 0, 'actual': 0, 'input': 0}, 'stopping_metric': {'default': 'AUTO', 'actual': 'AUTO', 'input': 'AUTO'}, 'stopping_tolerance': {'default': 0.001, 'actual': 0.001, 'input': 0.001}, 'balance_classes': {'default': False, 'actual': False, 'input': False}, 'class_sampling_factors': {'default': None, 'actual': None, 'input': None}, 'max_after_balance_size': {'default': 5.0, 'actual': 5.0, 'input': 5.0}, 'max_confusion_matrix_size': {'default': 20, 'actual': 20, 'input': 20}, 'max_runtime_secs': {'default': 0.0, 'actual': 0.0, 'input': 0.0}, 'custom_metric_func': {'default': None, 'actual': None, 'input': None}, 'generate_scoring_history': {'default': False, 'actual': False, 'input': False}, 'auc_type': {'default': 'AUTO', 'actual': 'AUTO', 'input': 'AUTO'}, 'dispersion_epsilon': {'default': 0.0001, 'actual': 0.0001, 'input': 0.0001}, 'tweedie_epsilon': {'default': 8e-17, 'actual': 8e-17, 'input': 8e-17}, 'max_iterations_dispersion': {'default': 3000, 'actual': 3000, 'input': 3000}, 'build_null_model': {'default': False, 'actual': False, 'input': False}, 'fix_dispersion_parameter': {'default': False, 'actual': False, 'input': False}, 'generate_variable_inflation_factors': {'default': False, 'actual': False, 'input': False}, 'fix_tweedie_variance_power': {'default': True, 'actual': True, 'input': True}, 'dispersion_learning_rate': {'default': 0.5, 'actual': 0.5, 'input': 0.5}, 'influence': {'default': None, 'actual': None, 'input': None}}\n",
            "Best Model Performance:\n",
            "ModelMetricsMultinomialGLM: glm\n",
            "** Reported on test data. **\n",
            "\n",
            "MSE: 0.02427245816247682\n",
            "RMSE: 0.15579620715048495\n",
            "LogLoss: 0.0774903282257811\n",
            "Null degrees of freedom: 42\n",
            "Residual degrees of freedom: 28\n",
            "Null deviance: 94.52577736549938\n",
            "Residual deviance: 6.664168227417175\n",
            "AUC table was not computed: it is either disabled (model parameter 'auc_type' was set to AUTO or NONE) or the domain size exceeds the limit (maximum is 50 domains).\n",
            "AUCPR table was not computed: it is either disabled (model parameter 'auc_type' was set to AUTO or NONE) or the domain size exceeds the limit (maximum is 50 domains).\n",
            "\n",
            "Confusion Matrix: Row labels: Actual class; Column labels: Predicted class\n",
            "setosa    versicolor    virginica    Error      Rate\n",
            "--------  ------------  -----------  ---------  ------\n",
            "14        0             0            0          0 / 14\n",
            "0         14            0            0          0 / 14\n",
            "0         1             14           0.0666667  1 / 15\n",
            "14        15            14           0.0232558  1 / 43\n",
            "\n",
            "Top-3 Hit Ratios: \n",
            "k    hit_ratio\n",
            "---  -----------\n",
            "1    0.976744\n",
            "2    1\n",
            "3    1\n"
          ]
        }
      ]
    }
  ]
}